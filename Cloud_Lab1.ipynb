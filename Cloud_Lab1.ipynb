{
  "nbformat": 4,
  "nbformat_minor": 0,
  "metadata": {
    "colab": {
      "name": "Cloud_Lab2a",
      "provenance": [],
      "authorship_tag": "ABX9TyPOrMglV6/vWXc8zwsD1fuw",
      "include_colab_link": true
    },
    "kernelspec": {
      "name": "python3",
      "display_name": "Python 3"
    }
  },
  "cells": [
    {
      "cell_type": "markdown",
      "metadata": {
        "id": "view-in-github",
        "colab_type": "text"
      },
      "source": [
        "<a href=\"https://colab.research.google.com/github/JARACH-209/Cloud_Lab/blob/master/Cloud_Lab2a.ipynb\" target=\"_parent\"><img src=\"https://colab.research.google.com/assets/colab-badge.svg\" alt=\"Open In Colab\"/></a>"
      ]
    },
    {
      "cell_type": "code",
      "metadata": {
        "id": "h6otBt6wsHxA",
        "colab_type": "code",
        "colab": {
          "base_uri": "https://localhost:8080/",
          "height": 460
        },
        "outputId": "6ad7fa1d-a9fd-410e-aea8-8dbd3f2f8498"
      },
      "source": [
        "\n",
        "print(\"Resgistration Process \\n Answer to the prompts correctly\\n\")\n",
        "\n",
        "name = str(input(\"Enter the Name\\n\"))\n",
        "roll_no = str(input(\"Enter the Roll. no.\\n\"))\n",
        "cur_sem = input(\"Enter the current semseter number (1,2,3,4,5,6,7 or 8)\\n\")\n",
        "sem = int(cur_sem)\n",
        "year = 1\n",
        "if sem <= 2 : year = 1\n",
        "elif sem <= 4 : year = 2\n",
        "elif sem <= 6 : year = 3\n",
        "else: year = 4\n",
        "\n",
        "course_off = []\n",
        "with open(\"/content/courses.txt\",'r') as courses:\n",
        "    for line in courses:\n",
        "        line = line.rstrip(\"\\n\")\n",
        "        if line[2] == str(year) and line[:2]==roll_no[:2] and year not in {1,2} or line[:2] in [\"MA\",\"HS\",\"SC\"] and line[2] == str(year) :\n",
        "            course_off.append(line)\n",
        "course_acc = \"\"\n",
        "for each in course_off:\n",
        "    msg = ''.join(each)\n",
        "    n = int(input(\"Enter 1 to credit or 0 to audit course : \"+msg))\n",
        "    if n == 1:\n",
        "        course_acc += msg+\" \"\n",
        "filename = \"student_course_info.txt\"\n",
        "with open(filename,'a') as student_info :\n",
        "    msg = name+\" \"+roll_no+\" \"+cur_sem+\" \"+course_acc+\"\\n\"\n",
        "    student_info.write(msg)\n",
        "\n",
        "x = input(\"Registration Complete Press Any Key to exit !\")\n",
        "\n"
      ],
      "execution_count": 50,
      "outputs": [
        {
          "output_type": "stream",
          "text": [
            "Resgistration Process \n",
            " Answer to the prompts correctly\n",
            "\n",
            "Enter the Name\n",
            "Achal Dixit\n",
            "Enter the Roll. no.\n",
            "CS1801007\n",
            "Enter the current semseter number (1,2,3,4,5,6,7 or 8)\n",
            "5\n",
            "Enter 1 to credit or 0 to audit course : CS301 Theory of Computation1\n",
            "Enter 1 to credit or 0 to audit course : CS352 Computer Networks1\n",
            "Enter 1 to credit or 0 to audit course : CS353 Computer Networks Lab1\n",
            "Enter 1 to credit or 0 to audit course : CS351 Cloud Computing1\n",
            "Enter 1 to credit or 0 to audit course : CS306 Machine Learning1\n",
            "Enter 1 to credit or 0 to audit course : CS316 Machine Learning Lab1\n",
            "Enter 1 to credit or 0 to audit course : SC301 Biology1\n",
            "Enter 1 to credit or 0 to audit course : MA305 Optimization Techniques0\n",
            "Enter 1 to credit or 0 to audit course : CS330 Software Engineering0\n",
            "Enter 1 to credit or 0 to audit course : CS331 Software Engineering Lab0\n",
            "Enter 1 to credit or 0 to audit course : CS320 Compilers0\n",
            "Enter 1 to credit or 0 to audit course : CS321 Compilers Lab0\n",
            "Enter 1 to credit or 0 to audit course : CS361 Computer Security0\n",
            "Enter 1 to credit or 0 to audit course : SC302 Physics II0\n",
            "Registration Complete Press Any Key to exit !0\n"
          ],
          "name": "stdout"
        }
      ]
    },
    {
      "cell_type": "code",
      "metadata": {
        "id": "wv0eNL9I7ppw",
        "colab_type": "code",
        "colab": {
          "base_uri": "https://localhost:8080/",
          "height": 92
        },
        "outputId": "03e119c2-b483-4cfa-e0e7-525f2d269eda"
      },
      "source": [
        "with open(\"/content/student_course_info.txt\",\"r+\") as student:\n",
        "    for line in student:\n",
        "        each = [line.split(' ')]\n",
        "        print(each)"
      ],
      "execution_count": 51,
      "outputs": [
        {
          "output_type": "stream",
          "text": [
            "[['Ashish', 'EC123', '6', 'SC301', 'Biology', 'EC351', 'Digital', 'Communication', 'EC352', 'Digital', 'Communication', 'Lab', 'EC301', 'Analog', 'Integrated', 'Circuits', 'EC302', 'Analog', 'Integrated', 'Circuit', 'Lab', 'EC370', 'Electromagnetics', 'EC380', 'Control', 'Systems', '\\n']]\n",
            "[['Kick', 'CS123', '3', 'HS201', 'India', 'Traditions', '\\n']]\n",
            "[['Achal', 'Dixit', 'CS1801007', '5', 'CS301', 'Theory', 'of', 'Computation', 'CS352', 'Computer', 'Networks', 'CS353', 'Computer', 'Networks', 'Lab', 'CS351', 'Cloud', 'Computing', 'CS306', 'Machine', 'Learning', 'CS316', 'Machine', 'Learning', 'Lab', 'SC301', 'Biology', '\\n']]\n"
          ],
          "name": "stdout"
        }
      ]
    },
    {
      "cell_type": "markdown",
      "metadata": {
        "id": "Q7rIuuYsJ11v",
        "colab_type": "text"
      },
      "source": [
        "# **Part B**"
      ]
    },
    {
      "cell_type": "code",
      "metadata": {
        "id": "tAWZ2_fDJ7dH",
        "colab_type": "code",
        "colab": {
          "base_uri": "https://localhost:8080/",
          "height": 277
        },
        "outputId": "f9104a4d-b816-4480-ec6f-70d0569cb1f2"
      },
      "source": [
        "from bs4 import BeautifulSoup \n",
        "from urllib.request import urlopen \n",
        "# extract all the contents of the text file. \n",
        "def genText():\n",
        "    raw = urlopen(\"https://www.w3.org/TR/PNG/iso_8859-1.txt\").read() \n",
        "    # remove any html/xml tags \n",
        "    raw1 = BeautifulSoup(raw) \n",
        "    raw2 = raw1.get_text()\n",
        "    with open(\"Randomtext.txt\",\"a\") as f:\n",
        "        f.write(raw2)\n",
        "\n",
        "def readfile(filename):\n",
        "    f = open(filename,\"r\")\n",
        "    stopwords = [\"the\",\"i\", \"me\", \"my\", \"myself\", \"we\", \"our\", \"ours\", \"ourselves\", \"you\", \"your\", \"yours\", \"yourself\", \"yourselves\", \"he\", \"him\", \"his\", \"himself\", \"she\", \"her\", \"hers\", \"herself\", \"it\", \"its\", \"itself\", \"they\", \"them\", \"their\", \"theirs\", \"themselves\", \"what\", \"which\", \"who\", \"whom\", \"this\", \"that\", \"these\", \"those\", \"am\", \"is\", \"are\", \"was\", \"were\", \"be\", \"been\", \"being\", \"have\", \"has\", \"had\", \"having\", \"do\", \"does\", \"did\", \"doing\", \"a\", \"an\", \"the\", \"and\", \"but\", \"if\", \"or\", \"because\", \"as\", \"until\", \"while\", \"of\", \"at\", \"by\", \"for\", \"with\", \"about\", \"against\", \"between\", \"into\", \"through\", \"during\", \"before\", \"after\", \"above\", \"below\", \"to\", \"from\", \"up\", \"down\", \"in\", \"out\", \"on\", \"off\", \"over\", \"under\", \"again\", \"further\", \"then\", \"once\", \"here\", \"there\", \"when\", \"where\", \"why\", \"how\", \"all\", \"any\", \"both\", \"each\", \"few\", \"more\", \"most\", \"other\", \"some\", \"such\", \"no\", \"nor\", \"not\", \"only\", \"own\", \"same\", \"so\", \"than\", \"too\", \"very\", \"s\", \"t\", \"can\", \"will\", \"just\", \"don\", \"should\", \"now\"]\n",
        "    content = f.read().strip(\"\\n\").lower()      #read mode, strips newline, and converts to lower case\n",
        "    for each in stopwords:\n",
        "        if each in content:\n",
        "            content.replace(each,\"\")\n",
        "    content = content.split()\n",
        "    return content\n",
        "\n",
        "def topTenWords(wordDict):\n",
        "    wordFre = {}\n",
        "    for each in wordDict:\n",
        "        if each not in wordFre:\n",
        "            wordFre[each] = 0\n",
        "        wordFre[each] += 1\n",
        "    topTen = []\n",
        "    print(wordFre)\n",
        "    wordFre = sorted(wordFre.items(), key= lambda x: x[1], reverse = True)\n",
        "    i=0\n",
        "    for each in wordFre:\n",
        "        topTen.append([each[0],each[1]])\n",
        "        i+=1\n",
        "        if i == 9:\n",
        "            break\n",
        "    return topTen\n",
        "def main():\n",
        "    genText()\n",
        "    content = readfile(\"Randomtext.txt\")\n",
        "    topTen = topTenWords(content)\n",
        "    print(\"Top Ten words are : \\n\\n\")\n",
        "    for each in topTen:\n",
        "        print(each)\n",
        "if __name__ == '__main__':\n",
        "    main()"
      ],
      "execution_count": 40,
      "outputs": [
        {
          "output_type": "stream",
          "text": [
            "{'the': 5, 'following': 1, 'are': 1, 'graphical': 1, '(non-control)': 1, 'characters': 1, 'defined': 1, 'by': 1, 'iso': 1, '8859-1': 1, '(1987).': 1, 'descriptions': 1, 'in': 2, 'words': 1, \"aren't\": 1, 'all': 1, 'that': 1, 'helpful,': 1, 'but': 1, \"they're\": 1, 'best': 1, 'we': 1, 'can': 1, 'do': 1, 'text.': 1, 'a': 15, 'graphics': 1, 'file': 1, 'illustrating': 1, 'character': 1, 'set': 1, 'should': 1, 'be': 2, 'available': 1, 'from': 1, 'same': 1, 'archive': 1, 'as': 1, 'this': 1, 'file.': 1, 'hex': 2, 'description': 2, '20': 1, 'space': 1, '21': 1, 'exclamation': 2, 'mark': 7, 'a1': 1, 'inverted': 2, '22': 1, 'quotation': 3, 'a2': 1, 'cent': 1, 'sign': 21, '23': 1, 'number': 1, 'a3': 1, 'pound': 1, '24': 1, 'dollar': 1, 'a4': 1, 'currency': 1, '25': 1, 'percent': 1, 'a5': 1, 'yen': 1, '26': 1, 'ampersand': 1, 'a6': 1, 'broken': 1, 'bar': 1, '27': 1, 'apostrophe': 1, 'a7': 1, 'section': 1, '28': 1, 'left': 3, 'parenthesis': 2, 'a8': 1, 'diaeresis': 12, '29': 1, 'right': 3, 'a9': 1, 'copyright': 1, '2a': 1, 'asterisk': 1, 'aa': 1, 'feminine': 1, 'ordinal': 2, 'indicator': 2, '2b': 1, 'plus': 1, 'ab': 1, 'left-pointing': 1, 'double': 2, 'angle': 2, '2c': 1, 'comma': 1, 'ac': 1, 'not': 1, '2d': 1, 'hyphen-minus': 1, 'ad': 1, 'soft': 1, 'hyphen': 1, '2e': 1, 'full': 1, 'stop': 1, 'ae': 3, 'registered': 1, '2f': 1, 'solidus': 2, 'af': 1, 'overline': 1, '30': 1, 'digit': 10, 'zero': 1, 'b0': 1, 'degree': 1, '31': 1, 'one': 4, 'b1': 1, 'plus-minus': 1, '32': 1, 'two': 2, 'b2': 1, 'superscript': 3, '33': 1, 'three': 3, 'b3': 1, '34': 1, 'four': 1, 'b4': 1, 'acute': 13, 'accent': 3, '35': 1, 'five': 1, 'b5': 1, 'micro': 1, '36': 1, 'six': 1, 'b6': 1, 'pilcrow': 1, '37': 1, 'seven': 1, 'b7': 1, 'middle': 1, 'dot': 1, '38': 1, 'eight': 1, 'b8': 1, 'cedilla': 3, '39': 1, 'nine': 1, 'b9': 1, '3a': 1, 'colon': 1, 'ba': 1, 'masculine': 1, '3b': 1, 'semicolon': 1, 'bb': 1, 'right-pointing': 1, '3c': 1, 'less-than': 1, 'bc': 1, 'vulgar': 3, 'fraction': 3, 'quarter': 1, '3d': 1, 'equals': 1, 'bd': 1, 'half': 1, '3e': 1, 'greater-than': 1, 'quarters': 1, '3f': 1, 'question': 2, 'bf': 1, '40': 1, 'commercial': 1, 'at': 1, 'c0': 1, 'capital': 56, 'letter': 114, 'with': 55, 'grave': 11, '41': 1, 'c1': 1, '42': 1, 'b': 2, 'c2': 1, 'circumflex': 11, '43': 1, 'c': 4, 'c3': 1, 'tilde': 7, '44': 1, 'd': 2, 'c4': 1, '45': 1, 'e': 10, 'c5': 1, 'ring': 2, 'above': 2, '46': 1, 'f': 2, 'c6': 1, '47': 1, 'g': 2, 'c7': 1, '48': 1, 'h': 2, 'c8': 1, '49': 1, 'i': 10, 'c9': 1, '4a': 1, 'j': 2, 'ca': 1, '4b': 1, 'k': 2, 'cb': 1, '4c': 1, 'l': 2, 'cc': 1, '4d': 1, 'm': 2, 'cd': 1, '4e': 1, 'n': 4, 'ce': 1, '4f': 1, 'o': 14, 'cf': 1, '50': 1, 'p': 2, 'd0': 1, 'eth': 2, '(icelandic)': 4, '51': 1, 'q': 2, 'd1': 1, '52': 1, 'r': 2, 'd2': 1, '53': 1, 's': 3, 'd3': 1, '54': 1, 't': 2, 'd4': 1, '55': 1, 'u': 10, 'd5': 1, '56': 1, 'v': 2, 'd6': 1, '57': 1, 'w': 2, 'd7': 1, 'multiplication': 1, '58': 1, 'x': 2, 'd8': 1, 'stroke': 2, '59': 1, 'y': 5, 'd9': 1, '5a': 1, 'z': 2, 'da': 1, '5b': 1, 'square': 2, 'bracket': 4, 'db': 1, '5c': 1, 'reverse': 1, 'dc': 1, '5d': 1, 'dd': 1, '5e': 1, 'de': 1, 'thorn': 2, '5f': 1, 'low': 1, 'line': 2, 'df': 1, 'small': 58, 'sharp': 1, '(german)': 1, '60': 1, 'e0': 1, '61': 1, 'e1': 1, '62': 1, 'e2': 1, '63': 1, 'e3': 1, '64': 1, 'e4': 1, '65': 1, 'e5': 1, '66': 1, 'e6': 1, '67': 1, 'e7': 1, '68': 1, 'e8': 1, '69': 1, 'e9': 1, '6a': 1, 'ea': 1, '6b': 1, 'eb': 1, '6c': 1, 'ec': 1, '6d': 1, 'ed': 1, '6e': 1, 'ee': 1, '6f': 1, 'ef': 1, '70': 1, 'f0': 1, '71': 1, 'f1': 1, '72': 1, 'f2': 1, '73': 1, 'f3': 1, '74': 1, 'f4': 1, '75': 1, 'f5': 1, '76': 1, 'f6': 1, '77': 1, 'f7': 1, 'division': 1, '78': 1, 'f8': 1, '79': 1, 'f9': 1, '7a': 1, 'fa': 1, '7b': 1, 'curly': 2, 'fb': 1, '7c': 1, 'vertical': 1, 'fc': 1, '7d': 1, 'fd': 1, '7e': 1, 'fe': 1, 'ff': 1}\n",
            "Top Ten words are : \n",
            "\n",
            "\n",
            "['letter', 114]\n",
            "['small', 58]\n",
            "['capital', 56]\n",
            "['with', 55]\n",
            "['sign', 21]\n",
            "['a', 15]\n",
            "['o', 14]\n",
            "['acute', 13]\n",
            "['diaeresis', 12]\n"
          ],
          "name": "stdout"
        }
      ]
    }
  ]
}
