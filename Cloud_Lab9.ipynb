{
  "nbformat": 4,
  "nbformat_minor": 0,
  "metadata": {
    "colab": {
      "name": "Cloud_Lab9.ipynb",
      "provenance": [],
      "collapsed_sections": [],
      "authorship_tag": "ABX9TyM2b4UsFymj9DsBuscpO+I/",
      "include_colab_link": true
    },
    "kernelspec": {
      "name": "python3",
      "display_name": "Python 3"
    }
  },
  "cells": [
    {
      "cell_type": "markdown",
      "metadata": {
        "id": "view-in-github",
        "colab_type": "text"
      },
      "source": [
        "<a href=\"https://colab.research.google.com/github/JARACH-209/Cloud_Lab/blob/master/Cloud_Lab9.ipynb\" target=\"_parent\"><img src=\"https://colab.research.google.com/assets/colab-badge.svg\" alt=\"Open In Colab\"/></a>"
      ]
    },
    {
      "cell_type": "code",
      "metadata": {
        "id": "yMNvYnS0ABI8"
      },
      "source": [
        "import numpy as np\n",
        "import pandas as pd\n",
        "import matplotlib.pyplot as plt\n",
        "from sklearn.datasets import load_iris\n",
        "import math\n",
        "%matplotlib inline\n",
        "\n",
        "df = pd.read_csv(\"/content/adult_cleaned.csv\")"
      ],
      "execution_count": 3,
      "outputs": []
    },
    {
      "cell_type": "code",
      "metadata": {
        "id": "XxkfV7scFGP0",
        "outputId": "da62dbad-36ef-4a5c-b95c-1f7a997dc7a3",
        "colab": {
          "base_uri": "https://localhost:8080/"
        }
      },
      "source": [
        "df.info()"
      ],
      "execution_count": 11,
      "outputs": [
        {
          "output_type": "stream",
          "text": [
            "<class 'pandas.core.frame.DataFrame'>\n",
            "RangeIndex: 32560 entries, 0 to 32559\n",
            "Data columns (total 5 columns):\n",
            " #   Column  Non-Null Count  Dtype \n",
            "---  ------  --------------  ----- \n",
            " 0   39      32560 non-null  int64 \n",
            " 1   13      32560 non-null  int64 \n",
            " 2    Male   32560 non-null  object\n",
            " 3   40      32560 non-null  int64 \n",
            " 4    <=50K  32560 non-null  object\n",
            "dtypes: int64(3), object(2)\n",
            "memory usage: 1.2+ MB\n"
          ],
          "name": "stdout"
        }
      ]
    },
    {
      "cell_type": "code",
      "metadata": {
        "id": "S0vgX_rRDqZW"
      },
      "source": [
        "df[' Male'].replace(to_replace = ' Male',value = 1,inplace=True)\n",
        "df[' Male'].replace(to_replace = ' Female',value = 0,inplace=True)\n",
        "df[' <=50K'].replace(to_replace = ' <=50K',value = 0,inplace=True)\n",
        "df[' <=50K'].replace(to_replace = ' >50K',value = 1,inplace=True)"
      ],
      "execution_count": 27,
      "outputs": []
    },
    {
      "cell_type": "code",
      "metadata": {
        "id": "iqGVJnSKHMxl",
        "outputId": "c35b7e05-0a85-4bc1-ec98-339195484577",
        "colab": {
          "base_uri": "https://localhost:8080/",
          "height": 143
        }
      },
      "source": [
        "df.head(3)"
      ],
      "execution_count": 32,
      "outputs": [
        {
          "output_type": "execute_result",
          "data": {
            "text/html": [
              "<div>\n",
              "<style scoped>\n",
              "    .dataframe tbody tr th:only-of-type {\n",
              "        vertical-align: middle;\n",
              "    }\n",
              "\n",
              "    .dataframe tbody tr th {\n",
              "        vertical-align: top;\n",
              "    }\n",
              "\n",
              "    .dataframe thead th {\n",
              "        text-align: right;\n",
              "    }\n",
              "</style>\n",
              "<table border=\"1\" class=\"dataframe\">\n",
              "  <thead>\n",
              "    <tr style=\"text-align: right;\">\n",
              "      <th></th>\n",
              "      <th>39</th>\n",
              "      <th>13</th>\n",
              "      <th>Male</th>\n",
              "      <th>40</th>\n",
              "      <th>&lt;=50K</th>\n",
              "    </tr>\n",
              "  </thead>\n",
              "  <tbody>\n",
              "    <tr>\n",
              "      <th>0</th>\n",
              "      <td>50</td>\n",
              "      <td>13</td>\n",
              "      <td>1</td>\n",
              "      <td>13</td>\n",
              "      <td>0</td>\n",
              "    </tr>\n",
              "    <tr>\n",
              "      <th>1</th>\n",
              "      <td>38</td>\n",
              "      <td>9</td>\n",
              "      <td>1</td>\n",
              "      <td>40</td>\n",
              "      <td>0</td>\n",
              "    </tr>\n",
              "    <tr>\n",
              "      <th>2</th>\n",
              "      <td>53</td>\n",
              "      <td>7</td>\n",
              "      <td>1</td>\n",
              "      <td>40</td>\n",
              "      <td>0</td>\n",
              "    </tr>\n",
              "  </tbody>\n",
              "</table>\n",
              "</div>"
            ],
            "text/plain": [
              "   39  13   Male  40   <=50K\n",
              "0  50  13      1  13       0\n",
              "1  38   9      1  40       0\n",
              "2  53   7      1  40       0"
            ]
          },
          "metadata": {
            "tags": []
          },
          "execution_count": 32
        }
      ]
    },
    {
      "cell_type": "code",
      "metadata": {
        "id": "PAHeuVNHFlCn"
      },
      "source": [
        "Y = df[' <=50K'].to_numpy()\n",
        "df.drop(columns=['13',' <=50K'],inplace=True)\n",
        "X = df.to_numpy()"
      ],
      "execution_count": 37,
      "outputs": []
    },
    {
      "cell_type": "code",
      "metadata": {
        "id": "-7Wo_f3XAw4V"
      },
      "source": [
        "class K_Means():\n",
        "    def __init__(self,k=1,iterations = 100,elbow=False,k_max=10):\n",
        "        self.k = k\n",
        "        self.iterations = iterations\n",
        "        self.elbow_flag = elbow\n",
        "        self.k_max = k_max\n",
        "        self.best_k = None\n",
        "        self.elbow_reductions = None\n",
        "        self.k_centroids = None\n",
        "        self.y = None\n",
        "        self.variances = None\n",
        "\n",
        "    def final_centroids(self):\n",
        "        return np.array(self.k_centroids)\n",
        "\n",
        "    def get_variance(self,X,y,k_centroids):\n",
        "        # sum of squares of distances between points and their centroids\n",
        "        temp = 0\n",
        "        for j in range(len(k_centroids)):\n",
        "            for point,cluster in zip(X,y):\n",
        "                if cluster == j:\n",
        "                    temp += self.euclidean_distance(point,k_centroids[j])**2 \n",
        "        return math.sqrt(temp)\n",
        "\n",
        "    def euclidean_distance(self, p1, p2):\n",
        "        # math.dist can gives distance between points of any dimensionality \n",
        "        # Unfortunately Colab works on python3.6 and dist is in 3.8\n",
        "        #return math.dist(p1,p2)     \n",
        "        return np.linalg.norm(p1-p2)\n",
        "\n",
        "    def get_centroids(self,X,y,k):\n",
        "        k_centroids = []\n",
        "        cluster_indexes = []\n",
        "        for j in range(k):\n",
        "            cluster_indexes.append([i for i in range(len(y)) if y[i] == j])\n",
        "        # Finding means of all the clusters\n",
        "        # Summing all the coordinates in all the dimensions having same cluster \n",
        "        # label and taking a mean\n",
        "        for cluster in cluster_indexes:\n",
        "            cluster_mean = 0\n",
        "            for i in cluster:\n",
        "                 cluster_mean += X[i]\n",
        "            num = len(cluster) if len(cluster) >0 else 1\n",
        "            k_centroids.append(np.array(cluster_mean/num))\n",
        "            \n",
        "            # k = number of clusters and their labels as well.\n",
        "            # Taking mean of all the points having same cluster label \n",
        "            # To get the mean coordinates find the mean of all the dimensional coordinates\n",
        "            # E.g -> [x,y,z] otherwise mean will be a number and for distance dims must be equal\n",
        "            # experession below will give direct mean instead of coordinates.\n",
        "        # k_centroids.append((np.mean([point for point,cluster in zip(X,y) if cluster == j])))\n",
        "        return k_centroids\n",
        "\n",
        "    def get_cluster(self,X,k_centroids):\n",
        "        y = np.zeros(len(X),dtype=int)\n",
        "        min_dist = None\n",
        "        cluster = 0\n",
        "        dist = None\n",
        "        for i in range(len(X)):\n",
        "            \n",
        "            min_dist = self.euclidean_distance(X[i],k_centroids[0])\n",
        "            cluster = 0\n",
        "            for j in range(len(k_centroids)):\n",
        "                dist = self.euclidean_distance(X[i],k_centroids[j])\n",
        "                if dist < min_dist:\n",
        "                    min_dist = dist\n",
        "                    cluster = j\n",
        "            y[i] = int(cluster)\n",
        "        return y\n",
        "\n",
        "    def clustering(self,X, k):\n",
        "        min_variance = None\n",
        "        variance = None\n",
        "        best_centroids = None\n",
        "        variances = np.zeros(self.iterations)\n",
        "        for i in range(self.iterations):\n",
        "            y = np.zeros(len(X),dtype=int)\n",
        "            k_centroids = []\n",
        "            variance = []\n",
        "\n",
        "            # intializes distinct random k points from dataset\n",
        "            while True:\n",
        "                rand_points = np.random.randint(len(X),size=(k))\n",
        "                if len(set(rand_points)) == len(rand_points):\n",
        "                    break\n",
        "            for points in rand_points:\n",
        "                k_centroids.append(X[points])\n",
        "            min_variance = self.get_variance(X,y,k_centroids)\n",
        "            check_count = 0\n",
        "\n",
        "            print(\"Iteration \",i)\n",
        "\n",
        "            # Clustering Loop\n",
        "            while True:\n",
        "                check_count += 1\n",
        "                # Prevents the loop from going to infinity in any possible case\n",
        "                if check_count > len(X)*10:\n",
        "                    raise Exception(\"Error in Cluster Loop. Infite Looping. Run again.\") \n",
        "                \n",
        "                # cluster labeling with given centroids\n",
        "                y = self.get_cluster(X,k_centroids) \n",
        "                \n",
        "                # Generates new centroids by taking mean of all labels\n",
        "                new_centroids = self.get_centroids(X,y,k)\n",
        "                if np.array_equal(k_centroids,new_centroids):\n",
        "                    variance = self.get_variance(X,y,new_centroids)\n",
        "                    break\n",
        "                else:\n",
        "                    k_centroids = new_centroids\n",
        "\n",
        "            variances[i] = variance\n",
        "            if variance < min_variance:\n",
        "                min_variance = variance\n",
        "                best_centroids = k_centroids\n",
        "        self.variances = variances\n",
        "        return best_centroids,min_variance\n",
        "\n",
        "    def elbow_clustering(self,X):\n",
        "        var_reductions = np.zeros(self.k_max+1)\n",
        "        variance = None\n",
        "        variances = []\n",
        "        for i in range(1,int(self.k_max+1)):\n",
        "            _, variance = self.clustering(X,i)\n",
        "            variances.append(variance)\n",
        "        for i in range(len(variances)-1):\n",
        "            var_reductions[i+1] = abs(variances[i+1]-variances[i])\n",
        "        self.elbow_reductions = var_reductions\n",
        "        self.variances = variances\n",
        "        return var_reductions\n",
        "\n",
        "    def fit(self, X):\n",
        "        best_k = None\n",
        "        k = self.k\n",
        "        centroids = []\n",
        "        y = []\n",
        "        if self.elbow_flag:\n",
        "\n",
        "            #Gives variances for all the values of K\n",
        "            #implement automation later\n",
        "            self.elbow_clustering(X)\n",
        "\n",
        "        else:\n",
        "            centroids, min_var = self.clustering(X,k) #final centroids are stored globally\n",
        "            y = self.get_cluster(X, centroids)\n",
        "            self.k_centroids = centroids\n",
        "            self.y = y\n",
        "            return y\n",
        "            "
      ],
      "execution_count": 87,
      "outputs": []
    },
    {
      "cell_type": "code",
      "metadata": {
        "id": "wOljV-5gNbEP"
      },
      "source": [
        "from sklearn import preprocessing\n",
        "scaler = preprocessing.StandardScaler().fit(X)\n",
        "X = scaler.transform(X)"
      ],
      "execution_count": 88,
      "outputs": []
    },
    {
      "cell_type": "code",
      "metadata": {
        "id": "Nbhif3CMQd7d",
        "outputId": "a30e2e8f-f1fa-4318-94d9-fffc9df837fb",
        "colab": {
          "base_uri": "https://localhost:8080/"
        }
      },
      "source": [
        "clf = K_Means(2,iterations = 50)\n",
        "y_pred = clf.fit(X)"
      ],
      "execution_count": 89,
      "outputs": [
        {
          "output_type": "stream",
          "text": [
            "Iteration  0\n",
            "Iteration  1\n",
            "Iteration  2\n",
            "Iteration  3\n",
            "Iteration  4\n",
            "Iteration  5\n",
            "Iteration  6\n",
            "Iteration  7\n",
            "Iteration  8\n",
            "Iteration  9\n",
            "Iteration  10\n",
            "Iteration  11\n",
            "Iteration  12\n",
            "Iteration  13\n",
            "Iteration  14\n",
            "Iteration  15\n",
            "Iteration  16\n",
            "Iteration  17\n",
            "Iteration  18\n",
            "Iteration  19\n",
            "Iteration  20\n",
            "Iteration  21\n",
            "Iteration  22\n",
            "Iteration  23\n",
            "Iteration  24\n",
            "Iteration  25\n",
            "Iteration  26\n",
            "Iteration  27\n",
            "Iteration  28\n",
            "Iteration  29\n",
            "Iteration  30\n",
            "Iteration  31\n",
            "Iteration  32\n",
            "Iteration  33\n",
            "Iteration  34\n",
            "Iteration  35\n",
            "Iteration  36\n",
            "Iteration  37\n",
            "Iteration  38\n",
            "Iteration  39\n",
            "Iteration  40\n",
            "Iteration  41\n",
            "Iteration  42\n",
            "Iteration  43\n",
            "Iteration  44\n",
            "Iteration  45\n",
            "Iteration  46\n",
            "Iteration  47\n",
            "Iteration  48\n",
            "Iteration  49\n"
          ],
          "name": "stdout"
        }
      ]
    },
    {
      "cell_type": "code",
      "metadata": {
        "id": "8vnvuLxnP4YE",
        "outputId": "2f1caac1-bc52-4c33-f185-fc2b7c0216f5",
        "colab": {
          "base_uri": "https://localhost:8080/",
          "height": 295
        }
      },
      "source": [
        "plt.plot(range(len(variances)), variances)"
      ],
      "execution_count": 95,
      "outputs": [
        {
          "output_type": "execute_result",
          "data": {
            "text/plain": [
              "[<matplotlib.lines.Line2D at 0x7fce6846fc50>]"
            ]
          },
          "metadata": {
            "tags": []
          },
          "execution_count": 95
        },
        {
          "output_type": "display_data",
          "data": {
            "image/png": "[encoded data removed]",
            "text/plain": [
              "<Figure size 432x288 with 1 Axes>"
            ]
          },
          "metadata": {
            "tags": []
          }
        }
      ]
    },
    {
      "cell_type": "code",
      "metadata": {
        "id": "CzoTdtYlKAMs",
        "outputId": "99e690ea-9231-4d06-d20c-feee235173a5",
        "colab": {
          "base_uri": "https://localhost:8080/",
          "height": 406
        }
      },
      "source": [
        "plt.figure(figsize=(10,10))\n",
        "plt.style.use('ggplot')\n",
        "\n",
        "fig, axes = plt.subplots(nrows=1, ncols=2, figsize=(15, 5))\n",
        "axes[0].scatter(df['40'][:100],df['39'][:100],c=y_pred[:100],cmap='brg')\n",
        "axes[1].scatter(df['40'][:100],df['39'][:100],c=Y[:100],cmap='brg')\n",
        "axes[0].title.set_text(\"Predicted through Clustering\")\n",
        "axes[1].title.set_text(\"Actual Plot\")\n",
        "fig.tight_layout()"
      ],
      "execution_count": 66,
      "outputs": [
        {
          "output_type": "execute_result",
          "data": {
            "text/plain": [
              "<module 'matplotlib.pyplot' from '/usr/local/lib/python3.6/dist-packages/matplotlib/pyplot.py'>"
            ]
          },
          "metadata": {
            "tags": []
          },
          "execution_count": 66
        },
        {
          "output_type": "display_data",
          "data": {
            "text/plain": [
              "<Figure size 720x720 with 0 Axes>"
            ]
          },
          "metadata": {
            "tags": []
          }
        },
        {
          "output_type": "display_data",
          "data": {
            "image/png": "[encoded data removed]",
            "text/plain": [
              "<Figure size 1080x360 with 2 Axes>"
            ]
          },
          "metadata": {
            "tags": []
          }
        }
      ]
    }
  ]
}