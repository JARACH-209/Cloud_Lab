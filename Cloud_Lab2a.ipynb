{
  "nbformat": 4,
  "nbformat_minor": 0,
  "metadata": {
    "colab": {
      "name": "Cloud_Lab2a",
      "provenance": [],
      "authorship_tag": "ABX9TyOrV9iff24nq7q2debkI0sY",
      "include_colab_link": true
    },
    "kernelspec": {
      "name": "python3",
      "display_name": "Python 3"
    }
  },
  "cells": [
    {
      "cell_type": "markdown",
      "metadata": {
        "id": "view-in-github",
        "colab_type": "text"
      },
      "source": [
        "<a href=\"https://colab.research.google.com/github/JARACH-209/Cloud_Lab/blob/master/Cloud_Lab2a.ipynb\" target=\"_parent\"><img src=\"https://colab.research.google.com/assets/colab-badge.svg\" alt=\"Open In Colab\"/></a>"
      ]
    },
    {
      "cell_type": "code",
      "metadata": {
        "id": "h6otBt6wsHxA",
        "colab_type": "code",
        "colab": {
          "base_uri": "https://localhost:8080/",
          "height": 460
        },
        "outputId": "6ad7fa1d-a9fd-410e-aea8-8dbd3f2f8498"
      },
      "source": [
        "\n",
        "print(\"Resgistration Process \\n Answer to the prompts correctly\\n\")\n",
        "\n",
        "name = str(input(\"Enter the Name\\n\"))\n",
        "roll_no = str(input(\"Enter the Roll. no.\\n\"))\n",
        "cur_sem = input(\"Enter the current semseter number (1,2,3,4,5,6,7 or 8)\\n\")\n",
        "sem = int(cur_sem)\n",
        "year = 1\n",
        "if sem <= 2 : year = 1\n",
        "elif sem <= 4 : year = 2\n",
        "elif sem <= 6 : year = 3\n",
        "else: year = 4\n",
        "\n",
        "course_off = []\n",
        "with open(\"/content/courses.txt\",'r') as courses:\n",
        "    for line in courses:\n",
        "        line = line.rstrip(\"\\n\")\n",
        "        if line[2] == str(year) and line[:2]==roll_no[:2] and year not in {1,2} or line[:2] in [\"MA\",\"HS\",\"SC\"] and line[2] == str(year) :\n",
        "            course_off.append(line)\n",
        "course_acc = \"\"\n",
        "for each in course_off:\n",
        "    msg = ''.join(each)\n",
        "    n = int(input(\"Enter 1 to credit or 0 to audit course : \"+msg))\n",
        "    if n == 1:\n",
        "        course_acc += msg+\" \"\n",
        "filename = \"student_course_info.txt\"\n",
        "with open(filename,'a') as student_info :\n",
        "    msg = name+\" \"+roll_no+\" \"+cur_sem+\" \"+course_acc+\"\\n\"\n",
        "    student_info.write(msg)\n",
        "\n",
        "x = input(\"Registration Complete Press Any Key to exit !\")\n",
        "\n"
      ],
      "execution_count": 50,
      "outputs": [
        {
          "output_type": "stream",
          "text": [
            "Resgistration Process \n",
            " Answer to the prompts correctly\n",
            "\n",
            "Enter the Name\n",
            "Achal Dixit\n",
            "Enter the Roll. no.\n",
            "CS1801007\n",
            "Enter the current semseter number (1,2,3,4,5,6,7 or 8)\n",
            "5\n",
            "Enter 1 to credit or 0 to audit course : CS301 Theory of Computation1\n",
            "Enter 1 to credit or 0 to audit course : CS352 Computer Networks1\n",
            "Enter 1 to credit or 0 to audit course : CS353 Computer Networks Lab1\n",
            "Enter 1 to credit or 0 to audit course : CS351 Cloud Computing1\n",
            "Enter 1 to credit or 0 to audit course : CS306 Machine Learning1\n",
            "Enter 1 to credit or 0 to audit course : CS316 Machine Learning Lab1\n",
            "Enter 1 to credit or 0 to audit course : SC301 Biology1\n",
            "Enter 1 to credit or 0 to audit course : MA305 Optimization Techniques0\n",
            "Enter 1 to credit or 0 to audit course : CS330 Software Engineering0\n",
            "Enter 1 to credit or 0 to audit course : CS331 Software Engineering Lab0\n",
            "Enter 1 to credit or 0 to audit course : CS320 Compilers0\n",
            "Enter 1 to credit or 0 to audit course : CS321 Compilers Lab0\n",
            "Enter 1 to credit or 0 to audit course : CS361 Computer Security0\n",
            "Enter 1 to credit or 0 to audit course : SC302 Physics II0\n",
            "Registration Complete Press Any Key to exit !0\n"
          ],
          "name": "stdout"
        }
      ]
    },
    {
      "cell_type": "code",
      "metadata": {
        "id": "wv0eNL9I7ppw",
        "colab_type": "code",
        "colab": {
          "base_uri": "https://localhost:8080/",
          "height": 92
        },
        "outputId": "03e119c2-b483-4cfa-e0e7-525f2d269eda"
      },
      "source": [
        "with open(\"/content/student_course_info.txt\",\"r+\") as student:\n",
        "    for line in student:\n",
        "        each = [line.split(' ')]\n",
        "        print(each)"
      ],
      "execution_count": 51,
      "outputs": [
        {
          "output_type": "stream",
          "text": [
            "[['Ashish', 'EC123', '6', 'SC301', 'Biology', 'EC351', 'Digital', 'Communication', 'EC352', 'Digital', 'Communication', 'Lab', 'EC301', 'Analog', 'Integrated', 'Circuits', 'EC302', 'Analog', 'Integrated', 'Circuit', 'Lab', 'EC370', 'Electromagnetics', 'EC380', 'Control', 'Systems', '\\n']]\n",
            "[['Kick', 'CS123', '3', 'HS201', 'India', 'Traditions', '\\n']]\n",
            "[['Achal', 'Dixit', 'CS1801007', '5', 'CS301', 'Theory', 'of', 'Computation', 'CS352', 'Computer', 'Networks', 'CS353', 'Computer', 'Networks', 'Lab', 'CS351', 'Cloud', 'Computing', 'CS306', 'Machine', 'Learning', 'CS316', 'Machine', 'Learning', 'Lab', 'SC301', 'Biology', '\\n']]\n"
          ],
          "name": "stdout"
        }
      ]
    }
  ]
}